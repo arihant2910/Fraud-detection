{
 "cells": [
  {
   "cell_type": "code",
   "execution_count": 37,
   "id": "f0048096-e15d-4c25-b869-2a7b4c9599cc",
   "metadata": {},
   "outputs": [],
   "source": [
    "import numpy as np\n",
    "import pandas as pd\n",
    "from sklearn.ensemble import RandomForestClassifier\n",
    "from sklearn.model_selection import train_test_split\n",
    "import matplotlib.pyplot as plt\n",
    "from sklearn.metrics import accuracy_score"
   ]
  },
  {
   "cell_type": "code",
   "execution_count": 38,
   "id": "0e3d5774-dc52-4096-bb9d-7db67effa073",
   "metadata": {},
   "outputs": [],
   "source": [
    "df = pd.read_csv('Fraud.csv')"
   ]
  },
  {
   "cell_type": "code",
   "execution_count": 39,
   "id": "661fa3f5-ffdc-4030-926a-c07f8cedc735",
   "metadata": {},
   "outputs": [
    {
     "data": {
      "text/html": [
       "<div>\n",
       "<style scoped>\n",
       "    .dataframe tbody tr th:only-of-type {\n",
       "        vertical-align: middle;\n",
       "    }\n",
       "\n",
       "    .dataframe tbody tr th {\n",
       "        vertical-align: top;\n",
       "    }\n",
       "\n",
       "    .dataframe thead th {\n",
       "        text-align: right;\n",
       "    }\n",
       "</style>\n",
       "<table border=\"1\" class=\"dataframe\">\n",
       "  <thead>\n",
       "    <tr style=\"text-align: right;\">\n",
       "      <th></th>\n",
       "      <th>step</th>\n",
       "      <th>type</th>\n",
       "      <th>amount</th>\n",
       "      <th>nameOrig</th>\n",
       "      <th>oldbalanceOrg</th>\n",
       "      <th>newbalanceOrig</th>\n",
       "      <th>nameDest</th>\n",
       "      <th>oldbalanceDest</th>\n",
       "      <th>newbalanceDest</th>\n",
       "      <th>isFraud</th>\n",
       "      <th>isFlaggedFraud</th>\n",
       "    </tr>\n",
       "  </thead>\n",
       "  <tbody>\n",
       "    <tr>\n",
       "      <th>0</th>\n",
       "      <td>1</td>\n",
       "      <td>PAYMENT</td>\n",
       "      <td>9839.64</td>\n",
       "      <td>C1231006815</td>\n",
       "      <td>170136.0</td>\n",
       "      <td>160296.36</td>\n",
       "      <td>M1979787155</td>\n",
       "      <td>0.0</td>\n",
       "      <td>0.0</td>\n",
       "      <td>0</td>\n",
       "      <td>0</td>\n",
       "    </tr>\n",
       "    <tr>\n",
       "      <th>1</th>\n",
       "      <td>1</td>\n",
       "      <td>PAYMENT</td>\n",
       "      <td>1864.28</td>\n",
       "      <td>C1666544295</td>\n",
       "      <td>21249.0</td>\n",
       "      <td>19384.72</td>\n",
       "      <td>M2044282225</td>\n",
       "      <td>0.0</td>\n",
       "      <td>0.0</td>\n",
       "      <td>0</td>\n",
       "      <td>0</td>\n",
       "    </tr>\n",
       "    <tr>\n",
       "      <th>2</th>\n",
       "      <td>1</td>\n",
       "      <td>TRANSFER</td>\n",
       "      <td>181.00</td>\n",
       "      <td>C1305486145</td>\n",
       "      <td>181.0</td>\n",
       "      <td>0.00</td>\n",
       "      <td>C553264065</td>\n",
       "      <td>0.0</td>\n",
       "      <td>0.0</td>\n",
       "      <td>1</td>\n",
       "      <td>0</td>\n",
       "    </tr>\n",
       "    <tr>\n",
       "      <th>3</th>\n",
       "      <td>1</td>\n",
       "      <td>CASH_OUT</td>\n",
       "      <td>181.00</td>\n",
       "      <td>C840083671</td>\n",
       "      <td>181.0</td>\n",
       "      <td>0.00</td>\n",
       "      <td>C38997010</td>\n",
       "      <td>21182.0</td>\n",
       "      <td>0.0</td>\n",
       "      <td>1</td>\n",
       "      <td>0</td>\n",
       "    </tr>\n",
       "    <tr>\n",
       "      <th>4</th>\n",
       "      <td>1</td>\n",
       "      <td>PAYMENT</td>\n",
       "      <td>11668.14</td>\n",
       "      <td>C2048537720</td>\n",
       "      <td>41554.0</td>\n",
       "      <td>29885.86</td>\n",
       "      <td>M1230701703</td>\n",
       "      <td>0.0</td>\n",
       "      <td>0.0</td>\n",
       "      <td>0</td>\n",
       "      <td>0</td>\n",
       "    </tr>\n",
       "  </tbody>\n",
       "</table>\n",
       "</div>"
      ],
      "text/plain": [
       "   step      type    amount     nameOrig  oldbalanceOrg  newbalanceOrig  \\\n",
       "0     1   PAYMENT   9839.64  C1231006815       170136.0       160296.36   \n",
       "1     1   PAYMENT   1864.28  C1666544295        21249.0        19384.72   \n",
       "2     1  TRANSFER    181.00  C1305486145          181.0            0.00   \n",
       "3     1  CASH_OUT    181.00   C840083671          181.0            0.00   \n",
       "4     1   PAYMENT  11668.14  C2048537720        41554.0        29885.86   \n",
       "\n",
       "      nameDest  oldbalanceDest  newbalanceDest  isFraud  isFlaggedFraud  \n",
       "0  M1979787155             0.0             0.0        0               0  \n",
       "1  M2044282225             0.0             0.0        0               0  \n",
       "2   C553264065             0.0             0.0        1               0  \n",
       "3    C38997010         21182.0             0.0        1               0  \n",
       "4  M1230701703             0.0             0.0        0               0  "
      ]
     },
     "execution_count": 39,
     "metadata": {},
     "output_type": "execute_result"
    }
   ],
   "source": [
    "df.head()"
   ]
  },
  {
   "cell_type": "code",
   "execution_count": 40,
   "id": "0471bf07-8cc2-45d1-b4f2-c9745f1089b9",
   "metadata": {},
   "outputs": [],
   "source": [
    "df.drop(columns='nameOrig nameDest'.split(), inplace=True)"
   ]
  },
  {
   "cell_type": "code",
   "execution_count": 41,
   "id": "7d10b060-01ba-42d1-8bb4-441ace6c441d",
   "metadata": {},
   "outputs": [
    {
     "data": {
      "text/plain": [
       "0    6354407\n",
       "1       8213\n",
       "Name: isFraud, dtype: int64"
      ]
     },
     "execution_count": 41,
     "metadata": {},
     "output_type": "execute_result"
    }
   ],
   "source": [
    "df['isFraud'].value_counts()"
   ]
  },
  {
   "cell_type": "code",
   "execution_count": 42,
   "id": "c8a61056-28e8-4ac2-8641-2049852017db",
   "metadata": {},
   "outputs": [
    {
     "data": {
      "text/html": [
       "<div>\n",
       "<style scoped>\n",
       "    .dataframe tbody tr th:only-of-type {\n",
       "        vertical-align: middle;\n",
       "    }\n",
       "\n",
       "    .dataframe tbody tr th {\n",
       "        vertical-align: top;\n",
       "    }\n",
       "\n",
       "    .dataframe thead th {\n",
       "        text-align: right;\n",
       "    }\n",
       "</style>\n",
       "<table border=\"1\" class=\"dataframe\">\n",
       "  <thead>\n",
       "    <tr style=\"text-align: right;\">\n",
       "      <th></th>\n",
       "      <th>step</th>\n",
       "      <th>amount</th>\n",
       "      <th>oldbalanceOrg</th>\n",
       "      <th>newbalanceOrig</th>\n",
       "      <th>oldbalanceDest</th>\n",
       "      <th>newbalanceDest</th>\n",
       "      <th>isFraud</th>\n",
       "      <th>isFlaggedFraud</th>\n",
       "      <th>type_CASH_OUT</th>\n",
       "      <th>type_DEBIT</th>\n",
       "      <th>type_PAYMENT</th>\n",
       "      <th>type_TRANSFER</th>\n",
       "    </tr>\n",
       "  </thead>\n",
       "  <tbody>\n",
       "    <tr>\n",
       "      <th>0</th>\n",
       "      <td>1</td>\n",
       "      <td>9839.64</td>\n",
       "      <td>170136.0</td>\n",
       "      <td>160296.36</td>\n",
       "      <td>0.0</td>\n",
       "      <td>0.0</td>\n",
       "      <td>0</td>\n",
       "      <td>0</td>\n",
       "      <td>0</td>\n",
       "      <td>0</td>\n",
       "      <td>1</td>\n",
       "      <td>0</td>\n",
       "    </tr>\n",
       "    <tr>\n",
       "      <th>1</th>\n",
       "      <td>1</td>\n",
       "      <td>1864.28</td>\n",
       "      <td>21249.0</td>\n",
       "      <td>19384.72</td>\n",
       "      <td>0.0</td>\n",
       "      <td>0.0</td>\n",
       "      <td>0</td>\n",
       "      <td>0</td>\n",
       "      <td>0</td>\n",
       "      <td>0</td>\n",
       "      <td>1</td>\n",
       "      <td>0</td>\n",
       "    </tr>\n",
       "    <tr>\n",
       "      <th>2</th>\n",
       "      <td>1</td>\n",
       "      <td>181.00</td>\n",
       "      <td>181.0</td>\n",
       "      <td>0.00</td>\n",
       "      <td>0.0</td>\n",
       "      <td>0.0</td>\n",
       "      <td>1</td>\n",
       "      <td>0</td>\n",
       "      <td>0</td>\n",
       "      <td>0</td>\n",
       "      <td>0</td>\n",
       "      <td>1</td>\n",
       "    </tr>\n",
       "    <tr>\n",
       "      <th>3</th>\n",
       "      <td>1</td>\n",
       "      <td>181.00</td>\n",
       "      <td>181.0</td>\n",
       "      <td>0.00</td>\n",
       "      <td>21182.0</td>\n",
       "      <td>0.0</td>\n",
       "      <td>1</td>\n",
       "      <td>0</td>\n",
       "      <td>1</td>\n",
       "      <td>0</td>\n",
       "      <td>0</td>\n",
       "      <td>0</td>\n",
       "    </tr>\n",
       "    <tr>\n",
       "      <th>4</th>\n",
       "      <td>1</td>\n",
       "      <td>11668.14</td>\n",
       "      <td>41554.0</td>\n",
       "      <td>29885.86</td>\n",
       "      <td>0.0</td>\n",
       "      <td>0.0</td>\n",
       "      <td>0</td>\n",
       "      <td>0</td>\n",
       "      <td>0</td>\n",
       "      <td>0</td>\n",
       "      <td>1</td>\n",
       "      <td>0</td>\n",
       "    </tr>\n",
       "  </tbody>\n",
       "</table>\n",
       "</div>"
      ],
      "text/plain": [
       "   step    amount  oldbalanceOrg  newbalanceOrig  oldbalanceDest  \\\n",
       "0     1   9839.64       170136.0       160296.36             0.0   \n",
       "1     1   1864.28        21249.0        19384.72             0.0   \n",
       "2     1    181.00          181.0            0.00             0.0   \n",
       "3     1    181.00          181.0            0.00         21182.0   \n",
       "4     1  11668.14        41554.0        29885.86             0.0   \n",
       "\n",
       "   newbalanceDest  isFraud  isFlaggedFraud  type_CASH_OUT  type_DEBIT  \\\n",
       "0             0.0        0               0              0           0   \n",
       "1             0.0        0               0              0           0   \n",
       "2             0.0        1               0              0           0   \n",
       "3             0.0        1               0              1           0   \n",
       "4             0.0        0               0              0           0   \n",
       "\n",
       "   type_PAYMENT  type_TRANSFER  \n",
       "0             1              0  \n",
       "1             1              0  \n",
       "2             0              1  \n",
       "3             0              0  \n",
       "4             1              0  "
      ]
     },
     "execution_count": 42,
     "metadata": {},
     "output_type": "execute_result"
    }
   ],
   "source": [
    "df = pd.get_dummies(df, columns='type'.split(), drop_first=True)\n",
    "df.head()\n"
   ]
  },
  {
   "cell_type": "code",
   "execution_count": 43,
   "id": "e197bd5d-8791-4d68-a1c6-96712fa178f1",
   "metadata": {},
   "outputs": [
    {
     "data": {
      "text/plain": [
       "(6362620, 12)"
      ]
     },
     "execution_count": 43,
     "metadata": {},
     "output_type": "execute_result"
    }
   ],
   "source": [
    "df.shape"
   ]
  },
  {
   "cell_type": "code",
   "execution_count": 44,
   "id": "787de18f-3420-420a-99ac-3ed2ec271b4f",
   "metadata": {},
   "outputs": [],
   "source": [
    "df2 = pd.concat([\n",
    "                df[df['isFraud'] == 0].sample(10000),\n",
    "                df[df['isFraud'] == 1]\n",
    "                ])"
   ]
  },
  {
   "cell_type": "code",
   "execution_count": 45,
   "id": "2b17420d-14d9-4444-a0e3-21839c78a3e8",
   "metadata": {},
   "outputs": [],
   "source": [
    "X = df2.drop(columns='isFraud'.split())\n",
    "y = df2['isFraud']"
   ]
  },
  {
   "cell_type": "code",
   "execution_count": 46,
   "id": "0499e87a-5663-4c8d-aa42-633b733fb634",
   "metadata": {},
   "outputs": [],
   "source": [
    "X_train, X_test, y_train, y_test = train_test_split(X, y, test_size=.3)"
   ]
  },
  {
   "cell_type": "code",
   "execution_count": 47,
   "id": "a80bf418-21b5-45d2-985c-ce20ac0377aa",
   "metadata": {},
   "outputs": [],
   "source": [
    "rfc = RandomForestClassifier(n_jobs=-1, verbose=3)"
   ]
  },
  {
   "cell_type": "code",
   "execution_count": 48,
   "id": "da83dd94-20d5-49eb-bc2b-3e923b4f20bb",
   "metadata": {},
   "outputs": [
    {
     "name": "stderr",
     "output_type": "stream",
     "text": [
      "[Parallel(n_jobs=-1)]: Using backend ThreadingBackend with 4 concurrent workers.\n",
      "[Parallel(n_jobs=-1)]: Done  24 tasks      | elapsed:    0.0s\n"
     ]
    },
    {
     "name": "stdout",
     "output_type": "stream",
     "text": [
      "building tree 1 of 100building tree 2 of 100\n",
      "building tree 3 of 100\n",
      "building tree 4 of 100\n",
      "\n",
      "building tree 5 of 100\n",
      "building tree 6 of 100\n",
      "building tree 7 of 100\n",
      "building tree 8 of 100\n",
      "building tree 9 of 100\n",
      "building tree 10 of 100\n",
      "building tree 11 of 100\n",
      "building tree 12 of 100\n",
      "building tree 13 of 100\n",
      "building tree 14 of 100\n",
      "building tree 15 of 100\n",
      "building tree 16 of 100\n",
      "building tree 17 of 100\n",
      "building tree 18 of 100building tree 19 of 100\n",
      "\n",
      "building tree 20 of 100\n",
      "building tree 21 of 100\n",
      "building tree 22 of 100\n",
      "building tree 23 of 100\n",
      "building tree 24 of 100\n",
      "building tree 25 of 100\n",
      "building tree 26 of 100\n",
      "building tree 27 of 100\n",
      "building tree 28 of 100\n",
      "building tree 29 of 100\n",
      "building tree 30 of 100\n",
      "building tree 31 of 100\n",
      "building tree 32 of 100\n",
      "building tree 33 of 100\n",
      "building tree 34 of 100\n",
      "building tree 35 of 100\n",
      "building tree 36 of 100\n",
      "building tree 37 of 100\n",
      "building tree 38 of 100\n",
      "building tree 39 of 100\n",
      "building tree 40 of 100\n",
      "building tree 41 of 100\n",
      "building tree 42 of 100\n",
      "building tree 43 of 100\n",
      "building tree 44 of 100\n",
      "building tree 45 of 100\n",
      "building tree 46 of 100\n",
      "building tree 47 of 100\n",
      "building tree 48 of 100\n",
      "building tree 49 of 100\n",
      "building tree 50 of 100\n",
      "building tree 51 of 100\n",
      "building tree 52 of 100\n",
      "building tree 53 of 100\n",
      "building tree 54 of 100\n",
      "building tree 55 of 100\n",
      "building tree 56 of 100\n",
      "building tree 57 of 100\n",
      "building tree 58 of 100\n",
      "building tree 59 of 100\n",
      "building tree 60 of 100\n",
      "building tree 61 of 100\n",
      "building tree 62 of 100\n",
      "building tree 63 of 100building tree 64 of 100\n",
      "\n",
      "building tree 65 of 100\n",
      "building tree 66 of 100\n",
      "building tree 67 of 100\n",
      "building tree 68 of 100\n",
      "building tree 69 of 100\n",
      "building tree 70 of 100\n",
      "building tree 71 of 100\n",
      "building tree 72 of 100\n",
      "building tree 73 of 100\n",
      "building tree 74 of 100\n",
      "building tree 75 of 100\n",
      "building tree 76 of 100\n",
      "building tree 77 of 100\n",
      "building tree 78 of 100\n",
      "building tree 79 of 100\n",
      "building tree 80 of 100building tree 81 of 100\n",
      "building tree 82 of 100\n",
      "\n",
      "building tree 83 of 100\n",
      "building tree 84 of 100\n",
      "building tree 85 of 100\n",
      "building tree 86 of 100\n",
      "building tree 87 of 100\n",
      "building tree 88 of 100\n",
      "building tree 89 of 100\n",
      "building tree 90 of 100\n",
      "building tree 91 of 100\n",
      "building tree 92 of 100\n",
      "building tree 93 of 100\n",
      "building tree 94 of 100\n",
      "building tree 95 of 100\n",
      "building tree 96 of 100\n",
      "building tree 97 of 100building tree 98 of 100\n",
      "\n",
      "building tree 99 of 100\n",
      "building tree 100 of 100\n"
     ]
    },
    {
     "name": "stderr",
     "output_type": "stream",
     "text": [
      "[Parallel(n_jobs=-1)]: Done 100 out of 100 | elapsed:    0.4s finished\n"
     ]
    },
    {
     "data": {
      "text/plain": [
       "RandomForestClassifier(n_jobs=-1, verbose=3)"
      ]
     },
     "execution_count": 48,
     "metadata": {},
     "output_type": "execute_result"
    }
   ],
   "source": [
    "rfc.fit(X_train, y_train)"
   ]
  },
  {
   "cell_type": "code",
   "execution_count": 49,
   "id": "af53c06f-2977-4af8-a148-55e26fae5d91",
   "metadata": {},
   "outputs": [],
   "source": [
    "from sklearn.metrics import classification_report, confusion_matrix"
   ]
  },
  {
   "cell_type": "code",
   "execution_count": 50,
   "id": "8b776319-82b7-4462-87a1-97eadd20eda1",
   "metadata": {},
   "outputs": [
    {
     "name": "stderr",
     "output_type": "stream",
     "text": [
      "[Parallel(n_jobs=4)]: Using backend ThreadingBackend with 4 concurrent workers.\n",
      "[Parallel(n_jobs=4)]: Done  24 tasks      | elapsed:    0.0s\n",
      "[Parallel(n_jobs=4)]: Done 100 out of 100 | elapsed:    0.0s finished\n"
     ]
    }
   ],
   "source": [
    "y_hat = rfc.predict(X_test)"
   ]
  },
  {
   "cell_type": "markdown",
   "id": "be160e83",
   "metadata": {},
   "source": [
    "# Factors showing the efficiency of the model"
   ]
  },
  {
   "cell_type": "code",
   "execution_count": 51,
   "id": "ab074e79-c1ec-450c-a727-51b41a150a0c",
   "metadata": {},
   "outputs": [
    {
     "name": "stdout",
     "output_type": "stream",
     "text": [
      "              precision    recall  f1-score   support\n",
      "\n",
      "           0       1.00      0.99      0.99      3046\n",
      "           1       0.98      1.00      0.99      2418\n",
      "\n",
      "    accuracy                           0.99      5464\n",
      "   macro avg       0.99      0.99      0.99      5464\n",
      "weighted avg       0.99      0.99      0.99      5464\n",
      "\n"
     ]
    }
   ],
   "source": [
    "print(classification_report(y_test, y_hat))"
   ]
  },
  {
   "cell_type": "code",
   "execution_count": 53,
   "id": "7ca50f9f",
   "metadata": {},
   "outputs": [
    {
     "name": "stdout",
     "output_type": "stream",
     "text": [
      "0.9910322108345534\n"
     ]
    }
   ],
   "source": [
    "print(accuracy_score(y_test,y_hat))\n"
   ]
  },
  {
   "cell_type": "code",
   "execution_count": 54,
   "id": "f2f9c757-2c93-4fd6-81af-d9f33332eafc",
   "metadata": {},
   "outputs": [
    {
     "name": "stdout",
     "output_type": "stream",
     "text": [
      "[[3009   37]\n",
      " [  12 2406]]\n"
     ]
    }
   ],
   "source": [
    "print(confusion_matrix(y_test, y_hat))"
   ]
  },
  {
   "cell_type": "markdown",
   "id": "57cd231a",
   "metadata": {},
   "source": [
    "Box Plot for the outliers"
   ]
  },
  {
   "cell_type": "code",
   "execution_count": 18,
   "id": "72479366-d5c9-4246-a153-9a9455553d1b",
   "metadata": {},
   "outputs": [
    {
     "data": {
      "text/plain": [
       "{'whiskers': [<matplotlib.lines.Line2D at 0x252c773da00>,\n",
       "  <matplotlib.lines.Line2D at 0x252c773dcd0>,\n",
       "  <matplotlib.lines.Line2D at 0x252c775ce20>,\n",
       "  <matplotlib.lines.Line2D at 0x252c776b130>,\n",
       "  <matplotlib.lines.Line2D at 0x252c7778250>,\n",
       "  <matplotlib.lines.Line2D at 0x252c7778520>,\n",
       "  <matplotlib.lines.Line2D at 0x252c77881c0>,\n",
       "  <matplotlib.lines.Line2D at 0x252c7788490>,\n",
       "  <matplotlib.lines.Line2D at 0x252c77935b0>,\n",
       "  <matplotlib.lines.Line2D at 0x252c7793880>,\n",
       "  <matplotlib.lines.Line2D at 0x252c77a09a0>,\n",
       "  <matplotlib.lines.Line2D at 0x252c77a0c70>,\n",
       "  <matplotlib.lines.Line2D at 0x252c77acd90>,\n",
       "  <matplotlib.lines.Line2D at 0x252cae6a0a0>,\n",
       "  <matplotlib.lines.Line2D at 0x252cae731c0>,\n",
       "  <matplotlib.lines.Line2D at 0x252cae73490>,\n",
       "  <matplotlib.lines.Line2D at 0x252cae835b0>,\n",
       "  <matplotlib.lines.Line2D at 0x252cae83880>,\n",
       "  <matplotlib.lines.Line2D at 0x252cae919a0>,\n",
       "  <matplotlib.lines.Line2D at 0x252cae91c70>,\n",
       "  <matplotlib.lines.Line2D at 0x252cae9bd90>,\n",
       "  <matplotlib.lines.Line2D at 0x252caeab0a0>,\n",
       "  <matplotlib.lines.Line2D at 0x252caeb61c0>,\n",
       "  <matplotlib.lines.Line2D at 0x252caeb6490>],\n",
       " 'caps': [<matplotlib.lines.Line2D at 0x252c773dfa0>,\n",
       "  <matplotlib.lines.Line2D at 0x252c775c2b0>,\n",
       "  <matplotlib.lines.Line2D at 0x252c776b400>,\n",
       "  <matplotlib.lines.Line2D at 0x252c776b6d0>,\n",
       "  <matplotlib.lines.Line2D at 0x252c77787f0>,\n",
       "  <matplotlib.lines.Line2D at 0x252c76b2700>,\n",
       "  <matplotlib.lines.Line2D at 0x252c7788760>,\n",
       "  <matplotlib.lines.Line2D at 0x252c7788a30>,\n",
       "  <matplotlib.lines.Line2D at 0x252c7793b50>,\n",
       "  <matplotlib.lines.Line2D at 0x252c7793e20>,\n",
       "  <matplotlib.lines.Line2D at 0x252c77a0f40>,\n",
       "  <matplotlib.lines.Line2D at 0x252c77ac250>,\n",
       "  <matplotlib.lines.Line2D at 0x252cae6a370>,\n",
       "  <matplotlib.lines.Line2D at 0x252cae6a640>,\n",
       "  <matplotlib.lines.Line2D at 0x252cae73760>,\n",
       "  <matplotlib.lines.Line2D at 0x252cae73a30>,\n",
       "  <matplotlib.lines.Line2D at 0x252cae83b50>,\n",
       "  <matplotlib.lines.Line2D at 0x252cae83e20>,\n",
       "  <matplotlib.lines.Line2D at 0x252cae91f40>,\n",
       "  <matplotlib.lines.Line2D at 0x252cae9b250>,\n",
       "  <matplotlib.lines.Line2D at 0x252caeab370>,\n",
       "  <matplotlib.lines.Line2D at 0x252caeab640>,\n",
       "  <matplotlib.lines.Line2D at 0x252caeb6760>,\n",
       "  <matplotlib.lines.Line2D at 0x252caeb6a30>],\n",
       " 'boxes': [<matplotlib.lines.Line2D at 0x252c773d730>,\n",
       "  <matplotlib.lines.Line2D at 0x252c775cb50>,\n",
       "  <matplotlib.lines.Line2D at 0x252c776bf40>,\n",
       "  <matplotlib.lines.Line2D at 0x252c7778eb0>,\n",
       "  <matplotlib.lines.Line2D at 0x252c77932e0>,\n",
       "  <matplotlib.lines.Line2D at 0x252c77a06d0>,\n",
       "  <matplotlib.lines.Line2D at 0x252c77acac0>,\n",
       "  <matplotlib.lines.Line2D at 0x252cae6aeb0>,\n",
       "  <matplotlib.lines.Line2D at 0x252cae832e0>,\n",
       "  <matplotlib.lines.Line2D at 0x252cae916d0>,\n",
       "  <matplotlib.lines.Line2D at 0x252cae9bac0>,\n",
       "  <matplotlib.lines.Line2D at 0x252caeabeb0>],\n",
       " 'medians': [<matplotlib.lines.Line2D at 0x252c775c580>,\n",
       "  <matplotlib.lines.Line2D at 0x252c776b9a0>,\n",
       "  <matplotlib.lines.Line2D at 0x252c7778910>,\n",
       "  <matplotlib.lines.Line2D at 0x252c7788d00>,\n",
       "  <matplotlib.lines.Line2D at 0x252c77a0130>,\n",
       "  <matplotlib.lines.Line2D at 0x252c77ac520>,\n",
       "  <matplotlib.lines.Line2D at 0x252cae6a910>,\n",
       "  <matplotlib.lines.Line2D at 0x252cae73d00>,\n",
       "  <matplotlib.lines.Line2D at 0x252cae91130>,\n",
       "  <matplotlib.lines.Line2D at 0x252cae9b520>,\n",
       "  <matplotlib.lines.Line2D at 0x252caeab910>,\n",
       "  <matplotlib.lines.Line2D at 0x252caeb6d00>],\n",
       " 'fliers': [<matplotlib.lines.Line2D at 0x252c775c850>,\n",
       "  <matplotlib.lines.Line2D at 0x252c776bc70>,\n",
       "  <matplotlib.lines.Line2D at 0x252c7778be0>,\n",
       "  <matplotlib.lines.Line2D at 0x252c7788fd0>,\n",
       "  <matplotlib.lines.Line2D at 0x252c77a0400>,\n",
       "  <matplotlib.lines.Line2D at 0x252c77ac7f0>,\n",
       "  <matplotlib.lines.Line2D at 0x252cae6abe0>,\n",
       "  <matplotlib.lines.Line2D at 0x252cae73fd0>,\n",
       "  <matplotlib.lines.Line2D at 0x252cae91400>,\n",
       "  <matplotlib.lines.Line2D at 0x252cae9b7f0>,\n",
       "  <matplotlib.lines.Line2D at 0x252caeabbe0>,\n",
       "  <matplotlib.lines.Line2D at 0x252caeb6fd0>],\n",
       " 'means': []}"
      ]
     },
     "execution_count": 18,
     "metadata": {},
     "output_type": "execute_result"
    },
    {
     "data": {
      "image/png": "[encoded data removed]",
      "text/plain": [
       "<Figure size 432x288 with 1 Axes>"
      ]
     },
     "metadata": {
      "needs_background": "light"
     },
     "output_type": "display_data"
    }
   ],
   "source": [
    "plt.boxplot(df)"
   ]
  },
  {
   "cell_type": "code",
   "execution_count": 19,
   "id": "a98b9f98",
   "metadata": {},
   "outputs": [],
   "source": [
    "plt.show()"
   ]
  }
 ],
 "metadata": {
  "kernelspec": {
   "display_name": "Python 3 (ipykernel)",
   "language": "python",
   "name": "python3"
  },
  "language_info": {
   "codemirror_mode": {
    "name": "ipython",
    "version": 3
   },
   "file_extension": ".py",
   "mimetype": "text/x-python",
   "name": "python",
   "nbconvert_exporter": "python",
   "pygments_lexer": "ipython3",
   "version": "3.9.12"
  }
 },
 "nbformat": 4,
 "nbformat_minor": 5
}
